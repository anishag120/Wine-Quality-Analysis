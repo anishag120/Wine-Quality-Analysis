{
 "cells": [
  {
   "cell_type": "markdown",
   "metadata": {},
   "source": [
    "# Importing Libraries"
   ]
  },
  {
   "cell_type": "code",
   "execution_count": null,
   "metadata": {},
   "outputs": [],
   "source": [
    "import numpy as np\n",
    "import matplotlib.pyplot as plt\n",
    "import pandas as pd\n",
    "from sklearn.preprocessing import LabelEncoder\n",
    "import seaborn as sns"
   ]
  },
  {
   "cell_type": "markdown",
   "metadata": {},
   "source": [
    "# Reading the Data"
   ]
  },
  {
   "cell_type": "code",
   "execution_count": null,
   "metadata": {},
   "outputs": [],
   "source": [
    "wine = pd.read_csv('winequality_red.csv')"
   ]
  },
  {
   "cell_type": "markdown",
   "metadata": {},
   "source": [
    "# Exploratory Data Analysis"
   ]
  },
  {
   "cell_type": "code",
   "execution_count": null,
   "metadata": {},
   "outputs": [],
   "source": [
    "#Number of unique elements in an object\n",
    "wine['alcohol'].nunique()"
   ]
  },
  {
   "cell_type": "code",
   "execution_count": null,
   "metadata": {},
   "outputs": [],
   "source": [
    "#Missing data\n",
    "print (wine.isnull().sum().sum())\n",
    "print (wine[:])\n",
    "print (wine[:].isnull())"
   ]
  },
  {
   "cell_type": "code",
   "execution_count": null,
   "metadata": {},
   "outputs": [],
   "source": [
    "#view data\n",
    "wine.head()"
   ]
  },
  {
   "cell_type": "code",
   "execution_count": null,
   "metadata": {},
   "outputs": [],
   "source": [
    "#Type of the data\n",
    "wine.dtypes"
   ]
  },
  {
   "cell_type": "code",
   "execution_count": null,
   "metadata": {},
   "outputs": [],
   "source": [
    "wine.describe()"
   ]
  },
  {
   "cell_type": "markdown",
   "metadata": {},
   "source": [
    "# Outlier Analysis"
   ]
  },
  {
   "cell_type": "code",
   "execution_count": null,
   "metadata": {},
   "outputs": [],
   "source": [
    "#Boxplot\n",
    "print(wine['fixed acidity'].quantile(0.50)) \n",
    "print(wine['fixed acidity'].quantile(0.95)) \n",
    "wine['fixed acidity'] = np.where(wine['fixed acidity'] >11.5, 7.9, wine['fixed acidity'])\n",
    "wine.boxplot(column=['fixed acidity'])"
   ]
  },
  {
   "cell_type": "code",
   "execution_count": null,
   "metadata": {},
   "outputs": [],
   "source": [
    "print(wine['volatile acidity'].quantile(0.50)) \n",
    "print(wine['volatile acidity'].quantile(0.95)) \n",
    "wine['volatile acidity'] = np.where(wine['volatile acidity'] >0.9, 0.52, wine['volatile acidity'])\n",
    "wine.boxplot(column=['volatile acidity'])"
   ]
  },
  {
   "cell_type": "code",
   "execution_count": null,
   "metadata": {},
   "outputs": [],
   "source": [
    "print(wine['citric acid'].quantile(0.50)) \n",
    "print(wine['citric acid'].quantile(0.95)) \n",
    "wine['citric acid'] = np.where(wine['citric acid'] >0.9, 0.26, wine['citric acid'])\n",
    "wine.boxplot(column=['citric acid'])"
   ]
  },
  {
   "cell_type": "code",
   "execution_count": null,
   "metadata": {},
   "outputs": [],
   "source": [
    "print(wine['residual sugar'].quantile(0.50)) \n",
    "print(wine['residual sugar'].quantile(0.95)) \n",
    "wine['residual sugar'] = np.where(wine['residual sugar'] >3, 2.2, wine['residual sugar'])\n",
    "wine.boxplot(column=['residual sugar'])"
   ]
  },
  {
   "cell_type": "code",
   "execution_count": null,
   "metadata": {},
   "outputs": [],
   "source": [
    "print(wine['chlorides'].quantile(0.50)) \n",
    "print(wine['chlorides'].quantile(0.95)) \n",
    "wine['chlorides'] = np.where(wine['chlorides'] < 0.06, 0.079, wine['chlorides'])\n",
    "wine.boxplot(column=['chlorides'])"
   ]
  },
  {
   "cell_type": "code",
   "execution_count": null,
   "metadata": {},
   "outputs": [],
   "source": [
    "print(wine['free sulfur dioxide'].quantile(0.50)) \n",
    "print(wine['free sulfur dioxide'].quantile(0.95)) \n",
    "wine['free sulfur dioxide'] = np.where(wine['free sulfur dioxide'] >41, 14, wine['free sulfur dioxide'])\n",
    "wine.boxplot(column=['free sulfur dioxide'])"
   ]
  },
  {
   "cell_type": "code",
   "execution_count": null,
   "metadata": {},
   "outputs": [],
   "source": [
    "print(wine['total sulfur dioxide'].quantile(0.50)) \n",
    "print(wine['total sulfur dioxide'].quantile(0.95)) \n",
    "wine['total sulfur dioxide'] = np.where(wine['total sulfur dioxide'] >100, 38, wine['total sulfur dioxide'])\n",
    "wine.boxplot(column=['total sulfur dioxide'])"
   ]
  },
  {
   "cell_type": "code",
   "execution_count": null,
   "metadata": {},
   "outputs": [],
   "source": [
    "print(wine['density'].quantile(0.50)) \n",
    "print(wine['density'].quantile(0.95)) \n",
    "wine['density'] = np.where(wine['density'] > 1.00, 0.996750, wine['density'])\n",
    "wine.boxplot(column=['density'])"
   ]
  },
  {
   "cell_type": "code",
   "execution_count": null,
   "metadata": {},
   "outputs": [],
   "source": [
    "print(wine['pH'].quantile(0.50)) \n",
    "print(wine['pH'].quantile(0.95)) \n",
    "wine['pH'] = np.where(wine['pH'] >3.5, 3.31, wine['pH'])\n",
    "wine.boxplot(column=['pH'])"
   ]
  },
  {
   "cell_type": "code",
   "execution_count": null,
   "metadata": {},
   "outputs": [],
   "source": [
    "print(wine['sulphates'].quantile(0.50)) \n",
    "print(wine['sulphates'].quantile(0.95)) \n",
    "wine['sulphates'] = np.where(wine['sulphates'] >0.85, 0.62, wine['sulphates'])\n",
    "wine.boxplot(column=['sulphates'])"
   ]
  },
  {
   "cell_type": "code",
   "execution_count": null,
   "metadata": {},
   "outputs": [],
   "source": [
    "print(wine['alcohol'].quantile(0.50)) \n",
    "print(wine['alcohol'].quantile(0.95)) \n",
    "wine['alcohol'] = np.where(wine['alcohol'] >13, 10.2, wine['alcohol'])\n",
    "wine.boxplot(column=['alcohol'])"
   ]
  },
  {
   "cell_type": "code",
   "execution_count": null,
   "metadata": {},
   "outputs": [],
   "source": [
    "#Making binary classificaion for the response variable.\n",
    "#Dividing wine as good and bad by giving the limit for the quality\n",
    "bins = (2, 6.5, 8)\n",
    "group_names = ['bad', 'good']\n",
    "wine['quality'] = pd.cut(wine['quality'], bins = bins, labels = group_names)\n",
    "label_quality = LabelEncoder()"
   ]
  },
  {
   "cell_type": "code",
   "execution_count": null,
   "metadata": {},
   "outputs": [],
   "source": [
    "#Bad becomes 0 and good becomes 1 \n",
    "wine['quality'] = label_quality.fit_transform(wine['quality'])\n",
    "wine['quality'].value_counts()\n",
    "sns.countplot(wine['quality'])"
   ]
  },
  {
   "cell_type": "markdown",
   "metadata": {},
   "source": [
    "# Feature selection"
   ]
  },
  {
   "cell_type": "code",
   "execution_count": null,
   "metadata": {},
   "outputs": [],
   "source": [
    "corr = wine.corr()\n",
    "sns.heatmap(corr, annot=True)\n",
    "plt.show()"
   ]
  },
  {
   "cell_type": "code",
   "execution_count": null,
   "metadata": {},
   "outputs": [],
   "source": [
    "# writeinto csv file\n",
    "wine1 = pd.DataFrame(wine)\n",
    "wine1.to_csv('wine_data.csv')\n",
    "wine= pd.read_csv('wine_data.csv')"
   ]
  },
  {
   "cell_type": "code",
   "execution_count": null,
   "metadata": {},
   "outputs": [],
   "source": []
  },
  {
   "cell_type": "code",
   "execution_count": null,
   "metadata": {},
   "outputs": [],
   "source": []
  },
  {
   "cell_type": "code",
   "execution_count": null,
   "metadata": {},
   "outputs": [],
   "source": []
  },
  {
   "cell_type": "code",
   "execution_count": null,
   "metadata": {},
   "outputs": [],
   "source": []
  }
 ],
 "metadata": {
  "kernelspec": {
   "display_name": "Python 3",
   "language": "python",
   "name": "python3"
  },
  "language_info": {
   "codemirror_mode": {
    "name": "ipython",
    "version": 3
   },
   "file_extension": ".py",
   "mimetype": "text/x-python",
   "name": "python",
   "nbconvert_exporter": "python",
   "pygments_lexer": "ipython3",
   "version": "3.8.5"
  }
 },
 "nbformat": 4,
 "nbformat_minor": 4
}
